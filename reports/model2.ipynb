{
 "cells": [
  {
   "cell_type": "markdown",
   "metadata": {},
   "source": [
    "# Model 2\n",
    "## Logistic regression with Tensorflow"
   ]
  },
  {
   "cell_type": "markdown",
   "metadata": {},
   "source": [
    "# Libraries"
   ]
  },
  {
   "cell_type": "code",
   "execution_count": 7,
   "metadata": {},
   "outputs": [],
   "source": [
    "import glob\n",
    "import numpy as np\n",
    "import tensorflow as tf\n",
    "from sklearn.utils import shuffle\n",
    "from sklearn.metrics import accuracy_score\n",
    "from PIL import Image\n",
    "import matplotlib.pyplot as plt"
   ]
  },
  {
   "cell_type": "markdown",
   "metadata": {},
   "source": [
    "# Read Images Function"
   ]
  },
  {
   "cell_type": "code",
   "execution_count": 39,
   "metadata": {},
   "outputs": [],
   "source": [
    "def ReadImages(path, get_labels=True):\n",
    "\t'''\n",
    "\tThis functions read all images from a folder (using PIL library) and return them as a numpy array.\n",
    "\tAll images are resized to 32x32 pixels, in accordance with the LeNet 5 structure.\n",
    "\n",
    "\t@path: Path where the images are store\n",
    "\t@get_labels: Ween set to True, the function will try to get the label from the image name (the digits after the last _ chatacter). \n",
    "\n",
    "\treturn a numpy array for the images and another one for the labels (in case it is necessary)\n",
    "\t'''\n",
    "    \n",
    "\t#Complete the path in case is incomplete\n",
    "\tif path[-1] != '/':\n",
    "\t\tpath += '/'\n",
    "\n",
    "\t#Read images from folder        \n",
    "\timages_paths = glob.glob(path+'*.ppm')\n",
    "\tprint(len(images_paths), \"images found on folder\")\n",
    "\n",
    "\t#Initialize lists    \n",
    "\timages = []\n",
    "\tlabels = []\n",
    "\n",
    "\t#Loop around all images on the folder  \n",
    "\tprint(\"Reading images...\")    \n",
    "\tcont = 0\n",
    "\tfor image_path in images_paths:\n",
    "\t\t#Open image with PIL        \n",
    "\t\timage = Image.open(image_path)\n",
    "\t\t#Resize Image        \n",
    "\t\timage = image.resize((32,32))\n",
    "\t\t#Convert image to array and normilize.\n",
    "\t\t#Append the image to the images list        \n",
    "\t\timages.append(np.array(image.getdata()).reshape(-1)/255)\n",
    "\n",
    "\t\t#If get_labels is set to True, get the image label        \n",
    "\t\tif get_labels:\n",
    "\t\t\tpos1 = image_path.rfind('_')+1 #Find the position of the last _ character\n",
    "\t\t\tpos2 = image_path.find('.', pos1) #Find the position of the . character\n",
    "\t\t\tlabels.append(int(image_path[pos1:pos2])) #Get the label and append it to the labels list\n",
    "\n",
    "\t\tcont += 1 #Increase counter\n",
    "\t\t#If the counter is a multiple of 1000, print        \n",
    "\t\tif cont%10000 == 0:\n",
    "\t\t\tprint(cont, \"/\", len(images_paths))\n",
    "\t\t#elif cont>10000 == 0:\n",
    "\t\t\t#break\n",
    "\n",
    "\t#Convert images list to numpy array            \n",
    "\timages = np.asarray(images)\n",
    "\tlabels = np.asarray(labels)\n",
    "\n",
    "\t#If get_labels is set to True, return images and labels, otherwise returns just images    \n",
    "\tif get_labels:\n",
    "\t\treturn images, labels\n",
    "\telse:\n",
    "\t\treturn images\t\t\n"
   ]
  },
  {
   "cell_type": "markdown",
   "metadata": {},
   "source": [
    "**Example:**"
   ]
  },
  {
   "cell_type": "code",
   "execution_count": 5,
   "metadata": {},
   "outputs": [
    {
     "name": "stdout",
     "output_type": "stream",
     "text": [
      "66232 images found on folder\n",
      "Reading images...\n",
      "10000 / 66232\n",
      "20000 / 66232\n",
      "30000 / 66232\n",
      "40000 / 66232\n",
      "50000 / 66232\n",
      "60000 / 66232\n"
     ]
    },
    {
     "data": {
      "text/plain": [
       "(array([[0.1372549 , 0.18039216, 0.25490196, ..., 0.09019608, 0.11372549,\n",
       "         0.14901961],\n",
       "        [0.13333333, 0.12941176, 0.12941176, ..., 0.11372549, 0.10588235,\n",
       "         0.10588235],\n",
       "        [0.10196078, 0.09019608, 0.09803922, ..., 0.2627451 , 0.32156863,\n",
       "         0.34117647],\n",
       "        ...,\n",
       "        [0.04313725, 0.04313725, 0.05490196, ..., 0.05098039, 0.05098039,\n",
       "         0.0627451 ],\n",
       "        [0.84705882, 0.85098039, 0.88235294, ..., 0.60392157, 0.65490196,\n",
       "         0.68235294],\n",
       "        [0.09803922, 0.08235294, 0.08627451, ..., 0.08235294, 0.07843137,\n",
       "         0.09411765]]), array([12, 31, 12, ..., 38, 13, 31]))"
      ]
     },
     "execution_count": 5,
     "metadata": {},
     "output_type": "execute_result"
    }
   ],
   "source": [
    "ReadImages('../images/train')"
   ]
  },
  {
   "cell_type": "markdown",
   "metadata": {},
   "source": [
    "# ANN Class Definition"
   ]
  },
  {
   "cell_type": "code",
   "execution_count": 36,
   "metadata": {},
   "outputs": [],
   "source": [
    "class ANN(object):\n",
    "\t\"\"\"\n",
    "\tThis class represents a Neural Network. It will be used as a logistic regression but only adding one neuron.\n",
    "\tIt allows to initalize the structure of the network as well as predict and train\n",
    "\tMethods:\n",
    "\t\t__init__: Initialize the structure of the logistic regression\n",
    "\t\tfit: Perform the training process over the network\n",
    "\t\tpredict: Predict the classes of images\n",
    "\t\tscore: Calculate the accuracy over a test of images\n",
    "\t\tforward: Perform the forward propagation stage of the network\n",
    "\t\"\"\"\n",
    "\tdef __init__(self, D, K):\n",
    "\t\t'''\n",
    "\t\tInitialize the structure of the logistic regression\n",
    "\t\t@D: Number of dimensions of an image. It will be 3072 (32*32*3)\n",
    "\t\t@K: Number of output classes. It will be 43\n",
    "\t\t'''\n",
    "\n",
    "\t\t#Initialize the place holders for inputs and labels.\n",
    "\t\tself.inputs = tf.placeholder(tf.float32, shape = (None, D), name='inputs')\n",
    "\t\tself.labels = tf.placeholder(tf.int64, shape = (None, ), name='labels')\n",
    "\n",
    "\t\t#Initilize the weight and bias variables for the only neuron\n",
    "\t\tself.W = tf.Variable((np.random.randn(D, K) * np.sqrt(2.0 / D)).astype(np.float32))\n",
    "\t\tself.b = tf.Variable((np.zeros(K)).astype(np.float32))\n",
    "\n",
    "\t\t#The logit are defined as the forward steo of one neuron.\n",
    "\t\t#It doesn't have the softmax function as it is included on the cost function.\n",
    "\t\tself.logits = tf.matmul(self.inputs, self.W)+self.b\n",
    "\n",
    "\t\t#The prediction is obtained after applying softmax and argmax to the logits\n",
    "\t\tself.prediction = tf.argmax(tf.nn.softmax(self.logits),1)\n",
    "\n",
    "\t\t#The cost function uses the cross entropy function. It already includes the softmax operation over the logits\n",
    "\t\tself.cost = tf.reduce_mean(tf.nn.sparse_softmax_cross_entropy_with_logits(logits=self.logits, labels=self.labels))\n",
    "\n",
    "\tdef fit(self, X, Y):\n",
    "\t\t'''\n",
    "\t\tThis function performs the training process of the logistic regression\n",
    "\t\t@X: Training images\n",
    "\t\t@Y: Training labels\n",
    "\t\t'''\n",
    "\n",
    "\t\tN, D = X.shape #Size of the image array\n",
    "\t\tK = len(set(Y)) #Number of output classes\n",
    "\n",
    "\t\tlr = 1e-4 #Learning rate\n",
    "\t\tdecay = 0.9 #Decay\n",
    "\t\tmu = 0.9 #Momentum\n",
    "\n",
    "\t\t#Optimizer that will minimize the cost function\n",
    "\t\ttrain_op = tf.train.RMSPropOptimizer(lr, decay=decay, momentum=mu).minimize(self.cost)\n",
    "\n",
    "\t\t#TRAINING PROCESS\n",
    "\t\tinit = tf.global_variables_initializer() #Initialize tensorflow variables\n",
    "\t\tsaver = tf.train.Saver(max_to_keep=1) #Initialize tensorflow saver\n",
    "\t\tbatch_sz = 500 #Define batch size\n",
    "\t\titeration = 0 #Initialize iteration\n",
    "\t\tmax_iterations = 5000 #Define a maximum number of iterations\n",
    "\n",
    "\t\t#Start tensorflow session\n",
    "\t\t#with tf.Session(config=tf.ConfigProto(log_device_placement=True)) as session: #With GPU\n",
    "\t\twith tf.Session() as session:\t#No GPU\n",
    "\n",
    "\t\t\tsession.run(init) #Run initialization\n",
    "\n",
    "\t\t\t#Loop around all iterations\n",
    "\t\t\twhile iteration < max_iterations:\n",
    "\t\t\t\t\n",
    "\t\t\t\tX, Y = shuffle(X, Y) #Shuffle the images and its labels\n",
    "\n",
    "\n",
    "\t\t\t\tfor e in range(0, N, batch_sz): #Epoch loop\n",
    "\n",
    "\t\t\t\t\titeration += 1 #Increase iteration\n",
    "\n",
    "\t\t\t\t\t#Select the X and Y values for the current batch\n",
    "\t\t\t\t\tXbatch = X[e:e+batch_sz]\n",
    "\t\t\t\t\tYbatch = Y[e:e+batch_sz]\n",
    "\n",
    "\t\t\t\t\t#Perform the train operation\n",
    "\t\t\t\t\tsession.run(train_op, feed_dict={self.inputs:Xbatch, self.labels:Ybatch})\n",
    "\n",
    "\t\t\t\t\t#Every 20 iterations, print and save\n",
    "\t\t\t\t\tif iteration%200 == 0:\n",
    "\n",
    "\t\t\t\t\t\t#Get the cost and accuracy for current batch \n",
    "\t\t\t\t\t\tc, p = session.run((self.cost, self.prediction), feed_dict={self.inputs:Xbatch, self.labels:Ybatch})\n",
    "\t\t\t\t\t\tacc = accuracy_score(Ybatch, p)\n",
    "\n",
    "\t\t\t\t\t\t#Print the costs and accuracies for both tests\n",
    "\t\t\t\t\t\tprint(iteration, \"Cost:\", c, \"Accuracy:\", acc)\n",
    "\n",
    "\t\t\t\t\t\t#Save the tensorflow model\n",
    "\t\t\t\t\t\tsaver.save(session, '../models/model2/saved/model2') \n",
    "\n",
    "\t\t\t#Save the tensorflow model\n",
    "\t\t\tsaver.save(session, '../models/model2/saved/model2')\t\t\t\n",
    "\t\n",
    "\tdef predict(self, X):\n",
    "\t\t'''\n",
    "\t\tThis functions predic the classes form a set of images X\n",
    "\t\t@X: Images in a numpy array \n",
    "\n",
    "\t\treturns a numpy array of size (Nx1) with the class of each image\n",
    "\t\t'''\n",
    "\n",
    "\t\t#Initialize tensorflow variables and saver\n",
    "\t\tinit = tf.global_variables_initializer()\n",
    "\t\tsaver = tf.train.Saver()\n",
    "\n",
    "\t\t#Initialize Tensorflow session\n",
    "\t\t#with tf.Session(config=tf.ConfigProto(log_device_placement=True)) as session: #GPU\n",
    "\t\twith tf.Session() as session:\t#CPU-only\n",
    "\t\t\t#Load tensorflow model\n",
    "\t\t\tload_file = '../models/model2/saved/model2'\n",
    "\t\t\tsaver.restore(session, load_file)\n",
    "\n",
    "\t\t\t#Predict the classes\n",
    "\t\t\tpred = session.run(self.prediction, feed_dict={self.inputs:X})\n",
    "\n",
    "\t\treturn pred\t\n",
    "\n",
    "\tdef score(self, X, Y):\n",
    "\t\t'''\n",
    "\t\tEvaluate the accuracy of the prediction over a set of images\n",
    "\t\t@X: Images in a 4D numpy array \n",
    "\t\t@Y: Images classes in a 1D numpy array \n",
    "\t\t'''\n",
    "\t\tpred = self.predict(X) #Predict the classes of the images\n",
    "\n",
    "\t\t#Get the accuracy of the prediction\n",
    "\t\treturn accuracy_score(Y, pred)\t\t\t\t\n"
   ]
  },
  {
   "cell_type": "markdown",
   "metadata": {},
   "source": [
    "# Model Function"
   ]
  },
  {
   "cell_type": "code",
   "execution_count": 42,
   "metadata": {},
   "outputs": [],
   "source": [
    "def model2(c_type, image_path):\n",
    "\t'''\n",
    "\tThis model identify what operation is going to be perform with the model2 (train, test or infer) and call the a function in accordance.\n",
    "\t@c_type: Operation type. It could be train, test or infer\n",
    "\t@image_path: Path to the images folder\n",
    "\t'''\n",
    "\n",
    "\tmodel_path = 'models/model2/saved/model2' #Path where the model is saved\n",
    "\tif c_type == 'train':\n",
    "\t\t#Call ReadImages function\n",
    "\t\tX, Y = ReadImages(image_path)\n",
    "\t\tXtest, Ytest = ReadImages('images/test/')\n",
    "\n",
    "\t\t#Get the size of the images array\n",
    "\t\tN, D = X.shape\n",
    "\t\t#Get the number of output classes\n",
    "\t\tK = len(set(Y))\n",
    "\n",
    "\t\t#Initialize object of type ANN (logistic regression)\n",
    "\t\tNN = ANN(D, K)\n",
    "\t\t\n",
    "\t\t#Perform training\n",
    "\t\tNN.fit(X, Y, Xtest, Ytest)\n",
    "\n",
    "\telif c_type == 'test':\n",
    "\t\t#Call ReadImages function\n",
    "\t\tX, Y = ReadImages(image_path)\n",
    "\n",
    "\t\t#Get the size of the images array \n",
    "\t\tN, D = X.shape\n",
    "\t\t#Get the number of output classes\n",
    "\t\tK = len(set(Y))\n",
    "\n",
    "\t\t#Initialize object of type ANN (logistic regression)\t\n",
    "\t\ttf.reset_default_graph()\n",
    "\t\tNN = ANN(D, K)\n",
    "\t\t\n",
    "\t\t#Print accuracy of the test\n",
    "\t\tprint(\"Accuracy:\", NN.score(X, Y))\n",
    "\n",
    "\telif c_type == 'infer':\n",
    "\t\t#Call ReadImages function, with get_labels attribute set as False\n",
    "\t\timages_paths = ReadImages(image_path, False)\n",
    "\n",
    "\t\t#Get the size of the images array \n",
    "\t\tN, D = images_paths.shape\n",
    "\t\t#Define the number of output classes\n",
    "\t\tK = 43\n",
    "\n",
    "\t\t#Initialize object of type ANN (logistic regression)\n",
    "\t\ttf.reset_default_graph()        \n",
    "\t\tNN = ANN(D, K)\n",
    "\n",
    "\t\t#Predict labels\n",
    "\t\tresults = NN.predict(images_paths)\n",
    "\n",
    "\t\tfor i in range(0, len(images_paths)): #Loop around all images\n",
    "\t\t\t#Get i image and label\n",
    "\t\t\timage = images_paths[i]\n",
    "\t\t\tresult = results[i]\n",
    "\n",
    "\t\t\t#Set titile of the image as the class\n",
    "\t\t\tplt.title(\"Class \"+str(result))\n",
    "\t\t\t#Delete axis\n",
    "\t\t\tplt.axis('off')\n",
    "\n",
    "\t\t\t#Show image\n",
    "\t\t\tplt.imshow(image.reshape(32,32,-1))\n",
    "\t\t\tplt.show()\n",
    "\n",
    "\t\t\t#As the user if he/she wants to continue with the next image\n",
    "\t\t\tinputted = input(\"Next Image? (y/n)\")\n",
    "\t\t\tif inputted.lower() != 'y':\n",
    "\t\t\t\tbreak"
   ]
  },
  {
   "cell_type": "markdown",
   "metadata": {},
   "source": [
    "# Examples:"
   ]
  },
  {
   "cell_type": "markdown",
   "metadata": {},
   "source": [
    "## Test"
   ]
  },
  {
   "cell_type": "code",
   "execution_count": 40,
   "metadata": {
    "scrolled": false
   },
   "outputs": [
    {
     "name": "stdout",
     "output_type": "stream",
     "text": [
      "16775 images found on folder\n",
      "Reading images...\n",
      "10000 / 16775\n",
      "INFO:tensorflow:Restoring parameters from ../models/model2/saved/model2\n",
      "Accuracy: 0.9787183308494783\n"
     ]
    }
   ],
   "source": [
    "model2('test', '../images/test/')"
   ]
  },
  {
   "cell_type": "markdown",
   "metadata": {},
   "source": [
    "## Infer"
   ]
  },
  {
   "cell_type": "code",
   "execution_count": 43,
   "metadata": {},
   "outputs": [
    {
     "name": "stdout",
     "output_type": "stream",
     "text": [
      "16775 images found on folder\n",
      "Reading images...\n",
      "10000 / 16775\n",
      "INFO:tensorflow:Restoring parameters from ../models/model2/saved/model2\n"
     ]
    },
    {
     "data": {
      "image/png": "[encoded data removed]",
      "text/plain": [
       "<Figure size 432x288 with 1 Axes>"
      ]
     },
     "metadata": {},
     "output_type": "display_data"
    },
    {
     "name": "stdout",
     "output_type": "stream",
     "text": [
      "Next Image? (y/n)y\n"
     ]
    },
    {
     "data": {
      "image/png": "[encoded data removed]",
      "text/plain": [
       "<Figure size 432x288 with 1 Axes>"
      ]
     },
     "metadata": {},
     "output_type": "display_data"
    },
    {
     "name": "stdout",
     "output_type": "stream",
     "text": [
      "Next Image? (y/n)y\n"
     ]
    },
    {
     "data": {
      "image/png": "[encoded data removed]",
      "text/plain": [
       "<Figure size 432x288 with 1 Axes>"
      ]
     },
     "metadata": {},
     "output_type": "display_data"
    },
    {
     "name": "stdout",
     "output_type": "stream",
     "text": [
      "Next Image? (y/n)y\n"
     ]
    },
    {
     "data": {
      "image/png": "[encoded data removed]",
      "text/plain": [
       "<Figure size 432x288 with 1 Axes>"
      ]
     },
     "metadata": {},
     "output_type": "display_data"
    },
    {
     "name": "stdout",
     "output_type": "stream",
     "text": [
      "Next Image? (y/n)y\n"
     ]
    },
    {
     "data": {
      "image/png": "[encoded data removed]",
      "text/plain": [
       "<Figure size 432x288 with 1 Axes>"
      ]
     },
     "metadata": {},
     "output_type": "display_data"
    },
    {
     "name": "stdout",
     "output_type": "stream",
     "text": [
      "Next Image? (y/n)n\n"
     ]
    }
   ],
   "source": [
    "model2('infer', '../images/test/')"
   ]
  },
  {
   "cell_type": "code",
   "execution_count": null,
   "metadata": {},
   "outputs": [],
   "source": []
  }
 ],
 "metadata": {
  "kernelspec": {
   "display_name": "Python 3",
   "language": "python",
   "name": "python3"
  },
  "language_info": {
   "codemirror_mode": {
    "name": "ipython",
    "version": 3
   },
   "file_extension": ".py",
   "mimetype": "text/x-python",
   "name": "python",
   "nbconvert_exporter": "python",
   "pygments_lexer": "ipython3",
   "version": "3.5.2"
  }
 },
 "nbformat": 4,
 "nbformat_minor": 2
}
